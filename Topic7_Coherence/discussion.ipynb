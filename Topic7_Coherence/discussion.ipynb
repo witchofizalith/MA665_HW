{
 "cells": [
  {
   "cell_type": "markdown",
   "metadata": {},
   "source": [
    "DISCUSSION QUESTIONS"
   ]
  },
  {
   "cell_type": "markdown",
   "metadata": {},
   "source": [
    "1. $df = \\frac{1}{T}$ How to improve? Df goes down, T goes up. \n",
    "\n",
    "Easy or hard? Easier, need to collect more data. Time consuming but at least it's not 1 million dollars I guess hopefully "
   ]
  },
  {
   "cell_type": "markdown",
   "metadata": {},
   "source": [
    "2. $f_{NQ} = \\frac{f_0}{2}$ How to improve? Increase $f_{NQ}$, increase $f_0$.\n",
    "\n",
    "Easy or hard? Harder. Might need to buy more expensive equipment for a finer sampling rate"
   ]
  },
  {
   "cell_type": "markdown",
   "metadata": {},
   "source": [
    "3. Define the coherence in words.\n",
    "\n",
    "$CHOR:$ \"Examine similarity between 2 signals\" \n",
    "\n",
    "                    coupling\n",
    "\n",
    "Coupling: a constant phase relationship - between our two signals at some frequency $f_j$"
   ]
  },
  {
   "cell_type": "markdown",
   "metadata": {},
   "source": [
    "4. units?\n",
    "\n",
    "$K^2_{xy,j} = \\frac{|S_{xy,j}|^2}{S_{xx,j}|S_{yy,j}|}$\n",
    "\n",
    "$K^2$ squared coherence\n",
    "\n",
    "COHR: $K^2_{xy,j}$ or $K_{xy,j}$\n",
    "\n",
    "$S_{xy,j} = $ cross-spec x & y @ j\n",
    "\n",
    "$ S_{xx,j}$ & $S_{yy,j}$ : Auto-spec x & y @ j \n",
    "\n",
    "unitless\n",
    "\n",
    "$0 \\leq K^2_{xy,j} \\leq 1 $"
   ]
  },
  {
   "cell_type": "markdown",
   "metadata": {},
   "source": [
    "5. phase change notation\n",
    "\n",
    "IN TABLET"
   ]
  }
 ],
 "metadata": {
  "kernelspec": {
   "display_name": "Python 3",
   "language": "python",
   "name": "python3"
  },
  "language_info": {
   "name": "python",
   "version": "3.11.1"
  }
 },
 "nbformat": 4,
 "nbformat_minor": 2
}
