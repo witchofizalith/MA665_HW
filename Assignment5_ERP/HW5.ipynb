{
 "cells": [
  {
   "cell_type": "markdown",
   "metadata": {},
   "source": [
    "ERP CHALLENGES"
   ]
  },
  {
   "cell_type": "code",
   "execution_count": null,
   "metadata": {},
   "outputs": [],
   "source": [
    "import numpy as np                  # Import functions for calculations.\n",
    "import matplotlib.pyplot as plt     # Import functions for plotting\n",
    "from scipy.io import loadmat        # Import function to read data.\n",
    "\n",
    "data = loadmat('EEG-2.mat')   "
   ]
  }
 ],
 "metadata": {
  "kernelspec": {
   "display_name": "Python 3",
   "language": "python",
   "name": "python3"
  },
  "language_info": {
   "name": "python",
   "version": "3.11.1"
  }
 },
 "nbformat": 4,
 "nbformat_minor": 2
}
